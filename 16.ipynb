{
 "cells": [
  {
   "cell_type": "code",
   "execution_count": 122,
   "metadata": {},
   "outputs": [],
   "source": [
    "import sys \n",
    "sys.path.append('..')\n",
    "from utils.utils import Matrix, Vec\n",
    "import numpy as np\n",
    "from heapq import heappop, heappush\n",
    "from collections import defaultdict"
   ]
  },
  {
   "cell_type": "markdown",
   "metadata": {},
   "source": [
    "# Input"
   ]
  },
  {
   "cell_type": "code",
   "execution_count": 123,
   "metadata": {},
   "outputs": [],
   "source": [
    "with open('input.txt') as file:\n",
    "    maze = Matrix.from_str(file.read())"
   ]
  },
  {
   "cell_type": "markdown",
   "metadata": {},
   "source": [
    "# Part 1"
   ]
  },
  {
   "cell_type": "code",
   "execution_count": 124,
   "metadata": {},
   "outputs": [],
   "source": [
    "end_pos = Vec(*list(zip(*np.where(maze == 'E')))[0])\n",
    "start_pos = Vec(*list(zip(*np.where(maze == 'S')))[0])\n",
    "start_dir = Vec(1, 0)"
   ]
  },
  {
   "cell_type": "code",
   "execution_count": 125,
   "metadata": {},
   "outputs": [],
   "source": [
    "queue = []\n",
    "distances = defaultdict(lambda: np.inf)\n",
    "distances[(start_pos, start_dir)] = 0\n",
    "visited = set()\n",
    "preds = defaultdict(set)\n",
    "heappush(queue, (0, (start_pos, start_dir)))"
   ]
  },
  {
   "cell_type": "code",
   "execution_count": 126,
   "metadata": {},
   "outputs": [],
   "source": [
    "while queue:\n",
    "    # investigate current position-direction combination\n",
    "    cur_dist, pos_dir_tuple = heappop(queue)\n",
    "    cur_pos, cur_dir = pos_dir_tuple\n",
    "    visited.add((cur_pos, cur_dir))\n",
    "    # move forward\n",
    "    next_pos = cur_pos + cur_dir\n",
    "    if maze[next_pos] != '#':\n",
    "        # distance from start to next pos\n",
    "        next_dist = cur_dist + 1\n",
    "        # Part 2: add predecessor if qual good or better distance\n",
    "        if next_dist <= distances[(next_pos, cur_dir)]:\n",
    "            preds[next_pos].add(cur_pos)\n",
    "        # set new best distance if smaller dist\n",
    "        if next_dist < distances[(next_pos, cur_dir)]:\n",
    "            distances[(next_pos, cur_dir)] = next_dist\n",
    "            heappush(queue, (next_dist, (next_pos, cur_dir)))\n",
    "    next_dist = cur_dist + 1000\n",
    "    # rotate L\n",
    "    next_dir = cur_dir << 1\n",
    "    if next_dist < distances[(cur_pos, next_dir)]:\n",
    "        distances[(cur_pos, next_dir)] = next_dist\n",
    "        heappush(queue, (next_dist, (cur_pos, next_dir)))\n",
    "    # rotate L\n",
    "    next_dir = cur_dir >> 1\n",
    "    if next_dist < distances[(cur_pos, next_dir)]:\n",
    "        distances[(cur_pos, next_dir)] = next_dist\n",
    "        heappush(queue, (next_dist, (cur_pos, next_dir)))    \n"
   ]
  },
  {
   "cell_type": "code",
   "execution_count": 127,
   "metadata": {},
   "outputs": [
    {
     "data": {
      "text/plain": [
       "127520"
      ]
     },
     "execution_count": 127,
     "metadata": {},
     "output_type": "execute_result"
    }
   ],
   "source": [
    "# get direction leading to min dist at end pos\n",
    "directions = [Vec(0, 1) >> k for k in range(4)]\n",
    "min([distances[(end_pos, dir)] for dir in directions])"
   ]
  },
  {
   "cell_type": "markdown",
   "metadata": {},
   "source": [
    "# Part 2"
   ]
  },
  {
   "cell_type": "code",
   "execution_count": 128,
   "metadata": {},
   "outputs": [],
   "source": [
    "def get_turns_to_equal(v1, v2):\n",
    "    \"\"\"return how many 90 deg turns needed to equal vecs. Also 0 if not possible\"\"\"\n",
    "    for k in range(4):\n",
    "        if v1 >> k == v2:\n",
    "            return 2-abs(k-2)\n",
    "    return 0"
   ]
  },
  {
   "cell_type": "code",
   "execution_count": 129,
   "metadata": {},
   "outputs": [
    {
     "data": {
      "text/plain": [
       "565"
      ]
     },
     "execution_count": 129,
     "metadata": {},
     "output_type": "execute_result"
    }
   ],
   "source": [
    "# traverse from end to start\n",
    "queue = [(end_pos, Vec(0,0))]\n",
    "visited = set()\n",
    "while queue:\n",
    "    # goal dir is the dir best to goal\n",
    "    cur_pos, goal_dir = queue.pop() \n",
    "    if cur_pos not in visited:\n",
    "        # get min dist of all possible predecessors\n",
    "        set_of_preds = preds[cur_pos]\n",
    "        min_dist_of_preds = np.inf\n",
    "        min_dist_preds = set()\n",
    "        for pred_pos in list(set_of_preds):\n",
    "            pred_dir = cur_pos - pred_pos\n",
    "            turns_needed = get_turns_to_equal(goal_dir, pred_dir)\n",
    "            pred_dist = distances[(pred_pos, pred_dir)] + turns_needed * 1000 + 1\n",
    "            # if same dist add me to predecessors with minimal dist\n",
    "            if pred_dist == min_dist_of_preds:\n",
    "                min_dist_preds.add((pred_pos, pred_dir))\n",
    "            # if less dist clear list and add me\n",
    "            if pred_dist < min_dist_of_preds:\n",
    "                min_dist_of_preds = pred_dist\n",
    "                min_dist_preds = set([(pred_pos, pred_dir)])\n",
    "        queue.extend(min_dist_preds)\n",
    "        visited.add(cur_pos)\n",
    "len(visited)"
   ]
  },
  {
   "cell_type": "code",
   "execution_count": 130,
   "metadata": {},
   "outputs": [
    {
     "data": {
      "image/png": "[encoded data removed]",
      "text/plain": [
       "<PIL.Image.Image image mode=L size=423x423>"
      ]
     },
     "execution_count": 130,
     "metadata": {},
     "output_type": "execute_result"
    }
   ],
   "source": [
    "from PIL import Image\n",
    "m = Matrix(np.full(maze.shape, 0))\n",
    "for pos in visited:\n",
    "    m[pos] = 255\n",
    "m = np.kron(m, [[1, 1, 1], [1, 1, 1], [1, 1, 1]])\n",
    "Image.fromarray(m.T.astype(np.uint8), mode='L')"
   ]
  }
 ],
 "metadata": {
  "kernelspec": {
   "display_name": "base",
   "language": "python",
   "name": "python3"
  },
  "language_info": {
   "codemirror_mode": {
    "name": "ipython",
    "version": 3
   },
   "file_extension": ".py",
   "mimetype": "text/x-python",
   "name": "python",
   "nbconvert_exporter": "python",
   "pygments_lexer": "ipython3",
   "version": "3.11.5"
  }
 },
 "nbformat": 4,
 "nbformat_minor": 2
}
