{
 "cells": [
  {
   "cell_type": "code",
   "execution_count": 52,
   "metadata": {},
   "outputs": [],
   "source": [
    "import sys\n",
    "sys.path.append(\"..\")\n",
    "\n",
    "import numpy as np\n",
    "from utils.utils import Matrix, Vec"
   ]
  },
  {
   "cell_type": "markdown",
   "metadata": {},
   "source": [
    "# Input"
   ]
  },
  {
   "cell_type": "code",
   "execution_count": 53,
   "metadata": {},
   "outputs": [],
   "source": [
    "with open('input.txt') as file:\n",
    "    field = Matrix.from_str(file)"
   ]
  },
  {
   "cell_type": "markdown",
   "metadata": {},
   "source": [
    "# Preparation"
   ]
  },
  {
   "cell_type": "markdown",
   "metadata": {},
   "source": [
    "# Task 1"
   ]
  },
  {
   "cell_type": "code",
   "execution_count": 54,
   "metadata": {},
   "outputs": [],
   "source": [
    "region_register = []\n",
    "m, n = field.shape\n",
    "to_visit = set([Vec(x,y) for x in range(n) for y in range(m)])\n",
    "\n",
    "next_id = 0\n",
    "while to_visit:\n",
    "    area = 0\n",
    "    circ = 0\n",
    "    queue = [to_visit.pop()]\n",
    "    while queue:\n",
    "        current = queue.pop(0)\n",
    "        area += 1\n",
    "        for nb in current.get_neighbors():\n",
    "            if nb in field and field[nb] == field[current]:\n",
    "                if nb in to_visit:\n",
    "                    queue.append(nb)\n",
    "                    to_visit.discard(nb)\n",
    "            else:\n",
    "                circ += 1\n",
    "    region_register.append((field[current], area, circ))"
   ]
  },
  {
   "cell_type": "code",
   "execution_count": 55,
   "metadata": {},
   "outputs": [
    {
     "data": {
      "text/plain": [
       "1375574"
      ]
     },
     "execution_count": 55,
     "metadata": {},
     "output_type": "execute_result"
    }
   ],
   "source": [
    "sum([a*c for _, a,c in region_register])"
   ]
  },
  {
   "cell_type": "markdown",
   "metadata": {},
   "source": [
    "# Task 2"
   ]
  },
  {
   "cell_type": "code",
   "execution_count": 56,
   "metadata": {},
   "outputs": [],
   "source": [
    "with open('input.txt') as file:\n",
    "    field = Matrix.from_str(file)\n",
    "m, n = field.shape\n",
    "# augment field with border\n",
    "field = np.pad(field, 1).view(Matrix)"
   ]
  },
  {
   "cell_type": "code",
   "execution_count": null,
   "metadata": {},
   "outputs": [],
   "source": [
    "region_register = []                                                    # register when region is counted\n",
    "edge_register = set()                                                   # store if pos, dir edge has been added\n",
    "to_visit = set([Vec(x,y) for x in range(1,n+1) for y in range(1,m+1)])  # points left to visit\n",
    "directions = [Vec(1,0) >> k for k in range(4)]                          # all possible dirs\n",
    "\n",
    "while to_visit:\n",
    "    start = to_visit.pop()\n",
    "    val = field[start]\n",
    "    area = 0\n",
    "    circ = 0\n",
    "    queue = [start]\n",
    "    while queue:\n",
    "        current = queue.pop(0)\n",
    "        area += 1\n",
    "        for dir in directions:\n",
    "            nb = current + dir\n",
    "            if field[nb] == val:\n",
    "                if nb in to_visit:\n",
    "                    queue.insert(0,nb)\n",
    "                    to_visit.discard(nb)\n",
    "            else: # nb != val\n",
    "                # only add this if the neighbor in both directions along this side do not have added \n",
    "                right_nb = current + (dir >> 1)\n",
    "                right_nb_nb = right_nb + dir\n",
    "                left_nb = current + (dir << 1)\n",
    "                left_nb_nb = left_nb + dir\n",
    "                right_edge_counted = (field[right_nb] == val and field[right_nb_nb] != val and (right_nb, dir) in edge_register)\n",
    "                left_edge_counted = (field[left_nb] == val and field[left_nb_nb] != val and (left_nb, dir) in edge_register)\n",
    "                if not right_edge_counted and not left_edge_counted:\n",
    "                    circ += 1\n",
    "                # fix and remove edge if left and right were added independently\n",
    "                if ((right_nb, dir) in edge_register and (left_nb, dir) in edge_register) and field[right_nb] == field[left_nb] == val:\n",
    "                    circ -= 1\n",
    "                edge_register.add((current, dir))\n",
    "    region_register.append((field[current], area, circ))\n",
    "    next_id += 1"
   ]
  },
  {
   "cell_type": "code",
   "execution_count": 58,
   "metadata": {},
   "outputs": [
    {
     "data": {
      "text/plain": [
       "830566"
      ]
     },
     "execution_count": 58,
     "metadata": {},
     "output_type": "execute_result"
    }
   ],
   "source": [
    "sum([a*c for _, a,c in region_register])"
   ]
  }
 ],
 "metadata": {
  "kernelspec": {
   "display_name": "base",
   "language": "python",
   "name": "python3"
  },
  "language_info": {
   "codemirror_mode": {
    "name": "ipython",
    "version": 3
   },
   "file_extension": ".py",
   "mimetype": "text/x-python",
   "name": "python",
   "nbconvert_exporter": "python",
   "pygments_lexer": "ipython3",
   "version": "3.12.7"
  }
 },
 "nbformat": 4,
 "nbformat_minor": 2
}
