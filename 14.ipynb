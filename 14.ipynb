{
 "cells": [
  {
   "cell_type": "code",
   "execution_count": 123,
   "metadata": {},
   "outputs": [],
   "source": [
    "import sys\n",
    "sys.path.append(\"..\")\n",
    "\n",
    "from utils.utils import Vec, Matrix"
   ]
  },
  {
   "cell_type": "markdown",
   "metadata": {},
   "source": [
    "# Input"
   ]
  },
  {
   "cell_type": "code",
   "execution_count": 124,
   "metadata": {},
   "outputs": [],
   "source": [
    "with open(\"input.txt\") as file:\n",
    "    input = file.read()"
   ]
  },
  {
   "cell_type": "code",
   "execution_count": 125,
   "metadata": {},
   "outputs": [],
   "source": [
    "class Robot:\n",
    "    def __init__(self, p, v):\n",
    "        self.p = p\n",
    "        self.v = v\n",
    "    def __repr__(self):\n",
    "        return f\"R(p={self.p}, v={self.v})\""
   ]
  },
  {
   "cell_type": "code",
   "execution_count": 126,
   "metadata": {},
   "outputs": [],
   "source": [
    "def parse_input(input):\n",
    "    return [\n",
    "        Robot(Vec(int(px),int(py)), Vec(int(vx),int(vy)))\n",
    "        for robot  in input.split(\"\\n\")\n",
    "        for p, v   in [robot.split(\" \")]\n",
    "        for px, py in [p.split(\"=\")[1].split(\",\")]\n",
    "        for vx, vy in [v.split(\"=\")[1].split(\",\")]\n",
    "    ]"
   ]
  },
  {
   "cell_type": "markdown",
   "metadata": {},
   "source": [
    "# Part 1"
   ]
  },
  {
   "cell_type": "code",
   "execution_count": 127,
   "metadata": {},
   "outputs": [],
   "source": [
    "def get_pos_after_sec(rob, sec, shape):\n",
    "    return Robot((rob.p + rob.v * sec) % shape, rob.v)"
   ]
  },
  {
   "cell_type": "code",
   "execution_count": 128,
   "metadata": {},
   "outputs": [],
   "source": [
    "robots = parse_input(input)\n",
    "shape = Vec(101, 103)\n",
    "robots = [get_pos_after_sec(robot, 100, shape) for robot in robots]"
   ]
  },
  {
   "cell_type": "code",
   "execution_count": 129,
   "metadata": {},
   "outputs": [],
   "source": [
    "# map robot to (q1, q2, q3, q4)\n",
    "import numpy as np\n",
    "q = Matrix(np.zeros((shape.x//2, shape.y//2)))\n",
    "def get_quadrant(robot):\n",
    "    if robot.p in q:\n",
    "        return [1, 0, 0, 0]\n",
    "    if robot.p - Vec(shape.x//2+1, 0) in q:\n",
    "        return [0, 1, 0, 0]\n",
    "    if robot.p - Vec(0, shape.y//2+1) in q:\n",
    "        return [0, 0, 1, 0]\n",
    "    elif robot.p - Vec(shape.x//2+1, shape.y//2+1) in q:\n",
    "        return [0, 0, 0, 1]\n",
    "    else:\n",
    "        return [0, 0, 0, 0]"
   ]
  },
  {
   "cell_type": "code",
   "execution_count": 130,
   "metadata": {},
   "outputs": [
    {
     "data": {
      "text/plain": [
       "228690000"
      ]
     },
     "execution_count": 130,
     "metadata": {},
     "output_type": "execute_result"
    }
   ],
   "source": [
    "np.prod(np.sum(([get_quadrant(r) for r in robots]), axis=0))"
   ]
  },
  {
   "cell_type": "markdown",
   "metadata": {},
   "source": [
    "# Part 2"
   ]
  },
  {
   "cell_type": "code",
   "execution_count": 131,
   "metadata": {},
   "outputs": [],
   "source": [
    "from PIL import Image"
   ]
  },
  {
   "cell_type": "code",
   "execution_count": 132,
   "metadata": {},
   "outputs": [],
   "source": [
    "def display_board(robots, shape):\n",
    "    m = Matrix(np.full((shape.x, shape.y), 0))\n",
    "    for robot in robots:\n",
    "        m[robot.p] = 255\n",
    "    # string = \"\\n\".join([\"\".join(line) for line in m.tolist()])\n",
    "    return Image.fromarray(m.T.astype(np.uint8))"
   ]
  },
  {
   "cell_type": "code",
   "execution_count": 133,
   "metadata": {},
   "outputs": [],
   "source": [
    "def is_tree(robots):\n",
    "    # assume tree has mass in center\n",
    "    count = 0\n",
    "    for r in robots:\n",
    "        if Vec(30,30) <= r.p and r.p <= Vec(70,70):\n",
    "            count += 1\n",
    "    return count>len(robots)//2"
   ]
  },
  {
   "cell_type": "code",
   "execution_count": 134,
   "metadata": {},
   "outputs": [
    {
     "name": "stdout",
     "output_type": "stream",
     "text": [
      "Index 7093\n"
     ]
    },
    {
     "data": {
      "image/png": "[encoded data removed]",
      "text/plain": [
       "<PIL.Image.Image image mode=L size=101x103>"
      ]
     },
     "execution_count": 134,
     "metadata": {},
     "output_type": "execute_result"
    }
   ],
   "source": [
    "robots = parse_input(input)\n",
    "i = 7000\n",
    "robots = [get_pos_after_sec(robot, i, shape) for robot in robots]\n",
    "while i < 8000:\n",
    "    robots = [get_pos_after_sec(robot, 1, shape) for robot in robots]\n",
    "    i += 1\n",
    "    if is_tree(robots):\n",
    "        print(\"Index\", i)\n",
    "        break\n",
    "display_board(robots, shape)"
   ]
  }
 ],
 "metadata": {
  "kernelspec": {
   "display_name": "base",
   "language": "python",
   "name": "python3"
  },
  "language_info": {
   "codemirror_mode": {
    "name": "ipython",
    "version": 3
   },
   "file_extension": ".py",
   "mimetype": "text/x-python",
   "name": "python",
   "nbconvert_exporter": "python",
   "pygments_lexer": "ipython3",
   "version": "3.11.5"
  }
 },
 "nbformat": 4,
 "nbformat_minor": 2
}
