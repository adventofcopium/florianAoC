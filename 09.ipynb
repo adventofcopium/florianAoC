{
 "cells": [
  {
   "cell_type": "code",
   "execution_count": 1,
   "metadata": {},
   "outputs": [],
   "source": [
    "import numpy as np"
   ]
  },
  {
   "cell_type": "markdown",
   "metadata": {},
   "source": [
    "# Input"
   ]
  },
  {
   "cell_type": "code",
   "execution_count": 2,
   "metadata": {},
   "outputs": [],
   "source": [
    "with open('input.txt') as file:\n",
    "    disk = list(map(int, list(file.read())))"
   ]
  },
  {
   "cell_type": "markdown",
   "metadata": {},
   "source": [
    "# Preparation"
   ]
  },
  {
   "cell_type": "code",
   "execution_count": 3,
   "metadata": {},
   "outputs": [],
   "source": [
    "def parse_disk(disk):\n",
    "    files = []\n",
    "    spaces = []\n",
    "    pos = 0\n",
    "    for i in range(len(disk)):\n",
    "        l = disk[i]\n",
    "        if l == 0:\n",
    "            continue\n",
    "        if i % 2 == 0:\n",
    "            files.append((pos, l, len(files))) # pos, len, filenum\n",
    "        else:\n",
    "            spaces.append((pos, l))\n",
    "        pos += l\n",
    "    return files, spaces"
   ]
  },
  {
   "cell_type": "code",
   "execution_count": 4,
   "metadata": {},
   "outputs": [],
   "source": [
    "def checksum(files):\n",
    "    s = 0\n",
    "    for file in files:\n",
    "        pos = np.arange(file[0], file[0] + file[1])\n",
    "        num = np.full_like(pos, fill_value=file[2])\n",
    "        s += sum(pos * num)\n",
    "    return s"
   ]
  },
  {
   "cell_type": "markdown",
   "metadata": {},
   "source": [
    "# Task 1"
   ]
  },
  {
   "cell_type": "code",
   "execution_count": 5,
   "metadata": {},
   "outputs": [
    {
     "data": {
      "text/plain": [
       "6258319840548"
      ]
     },
     "execution_count": 5,
     "metadata": {},
     "output_type": "execute_result"
    }
   ],
   "source": [
    "files, spaces = parse_disk(disk)\n",
    "\n",
    "while spaces and spaces[0][0] < files[-1][0]:\n",
    "    last_file_pos, last_file_len, last_file_num = files.pop()\n",
    "    first_space_pos, first_space_len = spaces.pop(0)\n",
    "    diff = last_file_len - first_space_len\n",
    "    if diff == 0: # equal size\n",
    "        files.insert(0, (first_space_pos, last_file_len, last_file_num))\n",
    "    elif diff < 0: # space bigger\n",
    "        files.insert(0, (first_space_pos, last_file_len, last_file_num))\n",
    "        spaces.insert(0, (first_space_pos + last_file_len, first_space_len - last_file_len))\n",
    "    else: # file bigger\n",
    "        files.append((last_file_pos, last_file_len - first_space_len, last_file_num))\n",
    "        files.insert(0, (first_space_pos, first_space_len, last_file_num))\n",
    "\n",
    "files.sort(key=lambda x: x[0])\n",
    "checksum(files)"
   ]
  },
  {
   "cell_type": "markdown",
   "metadata": {},
   "source": [
    "# Task 2"
   ]
  },
  {
   "cell_type": "code",
   "execution_count": 6,
   "metadata": {},
   "outputs": [
    {
     "data": {
      "text/plain": [
       "6286182965311"
      ]
     },
     "execution_count": 6,
     "metadata": {},
     "output_type": "execute_result"
    }
   ],
   "source": [
    "files, spaces = parse_disk(disk)\n",
    "\n",
    "for file in files[::-1]:\n",
    "    for i in range(len(spaces)):\n",
    "        cur_space = spaces[i]\n",
    "        if cur_space[0] > file[0]:\n",
    "            break\n",
    "        if cur_space[1] < file[1]:\n",
    "            continue\n",
    "        elif cur_space[1] == file[1]:\n",
    "            spaces.pop(i)\n",
    "            files.remove(file)\n",
    "            files.insert(0, (cur_space[0], cur_space[1], file[2]))\n",
    "            break\n",
    "        else:\n",
    "            spaces.pop(i)\n",
    "            files.remove(file)\n",
    "            files.insert(0, (cur_space[0], file[1], file[2]))\n",
    "            spaces.insert(i, (cur_space[0] + file[1], cur_space[1] - file[1]))\n",
    "            break\n",
    "        \n",
    "files.sort(key=lambda x:x[0])\n",
    "checksum(files)"
   ]
  }
 ],
 "metadata": {
  "kernelspec": {
   "display_name": "base",
   "language": "python",
   "name": "python3"
  },
  "language_info": {
   "codemirror_mode": {
    "name": "ipython",
    "version": 3
   },
   "file_extension": ".py",
   "mimetype": "text/x-python",
   "name": "python",
   "nbconvert_exporter": "python",
   "pygments_lexer": "ipython3",
   "version": "3.12.4"
  }
 },
 "nbformat": 4,
 "nbformat_minor": 2
}
