{
 "cells": [
  {
   "cell_type": "markdown",
   "metadata": {},
   "source": [
    "# Input"
   ]
  },
  {
   "cell_type": "code",
   "execution_count": 1,
   "metadata": {},
   "outputs": [],
   "source": [
    "with open(\"input.txt\") as file:\n",
    "    numbers = list(map(int, file.read().splitlines()))"
   ]
  },
  {
   "cell_type": "markdown",
   "metadata": {},
   "source": [
    "# Task 1"
   ]
  },
  {
   "cell_type": "code",
   "execution_count": 2,
   "metadata": {},
   "outputs": [],
   "source": [
    "MOD = 16777216"
   ]
  },
  {
   "cell_type": "code",
   "execution_count": 3,
   "metadata": {},
   "outputs": [],
   "source": [
    "def get_next(n):\n",
    "    n = ((n * 64) ^ n) % MOD\n",
    "    n = ((n // 32) ^ n) % MOD\n",
    "    n = ((n * 2048) ^ n) % MOD\n",
    "    return n"
   ]
  },
  {
   "cell_type": "code",
   "execution_count": 4,
   "metadata": {},
   "outputs": [
    {
     "data": {
      "text/plain": [
       "17577894908"
      ]
     },
     "execution_count": 4,
     "metadata": {},
     "output_type": "execute_result"
    }
   ],
   "source": [
    "s = 0\n",
    "for n in numbers:\n",
    "    for i in range(2000):\n",
    "        n = get_next(n)\n",
    "    s += n\n",
    "s"
   ]
  },
  {
   "cell_type": "markdown",
   "metadata": {},
   "source": [
    "# Task 2"
   ]
  },
  {
   "cell_type": "code",
   "execution_count": 5,
   "metadata": {},
   "outputs": [],
   "source": [
    "from collections import defaultdict\n",
    "mem = defaultdict(lambda:0)\n",
    "seen = defaultdict(set)"
   ]
  },
  {
   "cell_type": "code",
   "execution_count": 6,
   "metadata": {},
   "outputs": [],
   "source": [
    "for dealer, n in enumerate(numbers):\n",
    "    last_price = int(str(n)[-1])\n",
    "    last_changes = []\n",
    "    for i in range(2000):\n",
    "        n = get_next(n)\n",
    "        price = int(str(n)[-1])\n",
    "        change = price - last_price\n",
    "        last_price = price\n",
    "        last_changes.append(change)\n",
    "        last_changes = last_changes[-4:]\n",
    "        last_changes_tuple = tuple(last_changes)\n",
    "        if last_changes_tuple not in seen[dealer]:\n",
    "            mem[last_changes_tuple] += price\n",
    "            seen[dealer].add(last_changes_tuple)"
   ]
  },
  {
   "cell_type": "code",
   "execution_count": 7,
   "metadata": {},
   "outputs": [
    {
     "data": {
      "text/plain": [
       "((-2, 0, 3, 0), 1931)"
      ]
     },
     "execution_count": 7,
     "metadata": {},
     "output_type": "execute_result"
    }
   ],
   "source": [
    "max(mem.items(), key=lambda i:i[1])"
   ]
  }
 ],
 "metadata": {
  "kernelspec": {
   "display_name": "base",
   "language": "python",
   "name": "python3"
  },
  "language_info": {
   "codemirror_mode": {
    "name": "ipython",
    "version": 3
   },
   "file_extension": ".py",
   "mimetype": "text/x-python",
   "name": "python",
   "nbconvert_exporter": "python",
   "pygments_lexer": "ipython3",
   "version": "3.11.5"
  }
 },
 "nbformat": 4,
 "nbformat_minor": 2
}
