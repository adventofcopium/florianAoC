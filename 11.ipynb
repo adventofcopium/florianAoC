{
 "cells": [
  {
   "cell_type": "markdown",
   "metadata": {},
   "source": [
    "# Input"
   ]
  },
  {
   "cell_type": "code",
   "execution_count": 66,
   "metadata": {},
   "outputs": [],
   "source": [
    "with open('input.txt') as file:\n",
    "    line = list(map(int, file.read().split(\" \")))\n",
    "lut = {}"
   ]
  },
  {
   "cell_type": "markdown",
   "metadata": {},
   "source": [
    "# Preparation"
   ]
  },
  {
   "cell_type": "code",
   "execution_count": 67,
   "metadata": {},
   "outputs": [],
   "source": [
    "def change(stone, k = 1):\n",
    "    if k == 0:\n",
    "        return 1\n",
    "    if (stone, k) in lut:\n",
    "        return lut[(stone, k)]\n",
    "    if stone == 0:\n",
    "        ret = change(1, k - 1)\n",
    "        lut[(stone, k)] = ret\n",
    "        return ret\n",
    "    stone_str = str(stone)\n",
    "    stone_len = len(stone_str)\n",
    "    if stone_len % 2 == 0:\n",
    "        mid = stone_len // 2\n",
    "        ret = change(int(stone_str[:mid]), k - 1) + change(int(stone_str[mid:]), k - 1)\n",
    "        lut[(stone, k)] = ret\n",
    "        return ret\n",
    "    else:\n",
    "        ret = change(stone * 2024, k - 1)\n",
    "        lut[(stone, k)] = ret\n",
    "        return ret"
   ]
  },
  {
   "cell_type": "markdown",
   "metadata": {},
   "source": [
    "# Task 1"
   ]
  },
  {
   "cell_type": "code",
   "execution_count": 68,
   "metadata": {},
   "outputs": [
    {
     "data": {
      "text/plain": [
       "194782"
      ]
     },
     "execution_count": 68,
     "metadata": {},
     "output_type": "execute_result"
    }
   ],
   "source": [
    "lut = {}\n",
    "sum([change(stone, 25) for stone in line])"
   ]
  },
  {
   "cell_type": "markdown",
   "metadata": {},
   "source": [
    "# Task 2"
   ]
  },
  {
   "cell_type": "code",
   "execution_count": 69,
   "metadata": {},
   "outputs": [
    {
     "data": {
      "text/plain": [
       "233007586663131"
      ]
     },
     "execution_count": 69,
     "metadata": {},
     "output_type": "execute_result"
    }
   ],
   "source": [
    "lut = {}\n",
    "sum([change(stone, 75) for stone in line])"
   ]
  }
 ],
 "metadata": {
  "kernelspec": {
   "display_name": "base",
   "language": "python",
   "name": "python3"
  },
  "language_info": {
   "codemirror_mode": {
    "name": "ipython",
    "version": 3
   },
   "file_extension": ".py",
   "mimetype": "text/x-python",
   "name": "python",
   "nbconvert_exporter": "python",
   "pygments_lexer": "ipython3",
   "version": "3.12.4"
  }
 },
 "nbformat": 4,
 "nbformat_minor": 2
}
