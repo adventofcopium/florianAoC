{
 "cells": [
  {
   "cell_type": "code",
   "execution_count": 1,
   "metadata": {},
   "outputs": [],
   "source": [
    "from collections import defaultdict\n",
    "from functools import cmp_to_key"
   ]
  },
  {
   "cell_type": "markdown",
   "metadata": {},
   "source": [
    "# Input"
   ]
  },
  {
   "cell_type": "code",
   "execution_count": 2,
   "metadata": {},
   "outputs": [],
   "source": [
    "with open('input.txt') as file:\n",
    "    rules, updates = file.read().split(\"\\n\\n\")\n",
    "    \n",
    "rule_dict = defaultdict(set)\n",
    "for l, r in map(lambda rule : rule.split(\"|\"), rules.split(\"\\n\")):\n",
    "    rule_dict[l].add(r)\n",
    "\n",
    "updates = [u.split(\",\") for u in updates.split(\"\\n\")]"
   ]
  },
  {
   "cell_type": "markdown",
   "metadata": {},
   "source": [
    "# Task 1"
   ]
  },
  {
   "cell_type": "code",
   "execution_count": 3,
   "metadata": {},
   "outputs": [],
   "source": [
    "def get_mid(arr):\n",
    "    return int(arr[len(arr)//2])\n",
    "\n",
    "def check_update(update):\n",
    "    printed = set()\n",
    "    for page in update:\n",
    "        if rule_dict[page] & printed:\n",
    "            return False\n",
    "        printed.add(page)\n",
    "    return True"
   ]
  },
  {
   "cell_type": "code",
   "execution_count": 4,
   "metadata": {},
   "outputs": [
    {
     "data": {
      "text/plain": [
       "5732"
      ]
     },
     "execution_count": 4,
     "metadata": {},
     "output_type": "execute_result"
    }
   ],
   "source": [
    "incorrect = []\n",
    "s = 0\n",
    "for update in updates:\n",
    "    if check_update(update):\n",
    "        s += get_mid(update)\n",
    "    else:\n",
    "        incorrect.append(update)     \n",
    "s"
   ]
  },
  {
   "cell_type": "markdown",
   "metadata": {},
   "source": [
    "# Task 2"
   ]
  },
  {
   "cell_type": "code",
   "execution_count": 5,
   "metadata": {},
   "outputs": [
    {
     "data": {
      "text/plain": [
       "4716"
      ]
     },
     "execution_count": 5,
     "metadata": {},
     "output_type": "execute_result"
    }
   ],
   "source": [
    "def rulesort(a, b): \n",
    "    return -1 if b in rule_dict[a] else 1\n",
    "sum([get_mid(sorted(update, key=cmp_to_key(rulesort))) for update in incorrect])"
   ]
  }
 ],
 "metadata": {
  "kernelspec": {
   "display_name": "base",
   "language": "python",
   "name": "python3"
  },
  "language_info": {
   "codemirror_mode": {
    "name": "ipython",
    "version": 3
   },
   "file_extension": ".py",
   "mimetype": "text/x-python",
   "name": "python",
   "nbconvert_exporter": "python",
   "pygments_lexer": "ipython3",
   "version": "3.11.5"
  }
 },
 "nbformat": 4,
 "nbformat_minor": 2
}
