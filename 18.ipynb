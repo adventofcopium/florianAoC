{
 "cells": [
  {
   "cell_type": "code",
   "execution_count": 5,
   "metadata": {},
   "outputs": [],
   "source": [
    "import sys\n",
    "sys.path.append(\"..\")\n",
    "from utils.utils import Vec, Matrix\n",
    "import numpy as np\n",
    "from heapq import heappop, heappush\n",
    "from collections import defaultdict\n",
    "from tqdm import tqdm"
   ]
  },
  {
   "cell_type": "code",
   "execution_count": 6,
   "metadata": {},
   "outputs": [],
   "source": [
    "with open('input.txt') as file:\n",
    "    bytes = file.read().split(\"\\n\")\n",
    "bytes = [Vec(*(map(int, b.split(\",\")))) for b in bytes]"
   ]
  },
  {
   "cell_type": "code",
   "execution_count": 7,
   "metadata": {},
   "outputs": [],
   "source": [
    "shape = (71, 71)\n",
    "start_pos = Vec(0,0)\n",
    "end_pos = Vec(*(shape)) - Vec(1, 1)"
   ]
  },
  {
   "cell_type": "code",
   "execution_count": null,
   "metadata": {},
   "outputs": [],
   "source": [
    "def dijkstra(N=1024):\n",
    "    mem = Matrix(np.full(shape, '.'))\n",
    "    for pos in bytes[:N]:\n",
    "        mem[pos] = '#'\n",
    "    mem[start_pos] = 'S'\n",
    "    mem[end_pos] = 'E'\n",
    "    directions = [Vec(1, 0) >> k for k in range(4)]\n",
    "    queue = []\n",
    "    distances = defaultdict(lambda: np.inf)\n",
    "    distances[start_pos] = 0\n",
    "    visited = set()\n",
    "    heappush(queue, (0, start_pos))\n",
    "    while queue:\n",
    "        cur_dist, cur_pos = heappop(queue)\n",
    "        visited.add(cur_pos)\n",
    "        for cur_dir in directions:\n",
    "            next_pos = cur_pos + cur_dir\n",
    "            if next_pos in mem and mem[next_pos] != '#':\n",
    "                next_dist = cur_dist + 1\n",
    "                if next_dist < distances[next_pos]:\n",
    "                    distances[next_pos] = next_dist\n",
    "                    heappush(queue, (next_dist, next_pos))   \n",
    "    return distances[end_pos]"
   ]
  },
  {
   "cell_type": "code",
   "execution_count": 11,
   "metadata": {},
   "outputs": [
    {
     "data": {
      "text/plain": [
       "416"
      ]
     },
     "execution_count": 11,
     "metadata": {},
     "output_type": "execute_result"
    }
   ],
   "source": [
    "dijkstra(1024)"
   ]
  },
  {
   "cell_type": "code",
   "execution_count": null,
   "metadata": {},
   "outputs": [
    {
     "name": "stderr",
     "output_type": "stream",
     "text": [
      "  6%|▌         | 69/1200 [00:00<00:06, 171.21it/s]"
     ]
    },
    {
     "name": "stdout",
     "output_type": "stream",
     "text": [
      "Vec(50, 23)\n"
     ]
    },
    {
     "name": "stderr",
     "output_type": "stream",
     "text": [
      "\n"
     ]
    }
   ],
   "source": [
    "for N in tqdm(range(2800, 4000)):\n",
    "    if dijkstra(N) == np.inf:\n",
    "        print(bytes[N-1])\n",
    "        break"
   ]
  }
 ],
 "metadata": {
  "kernelspec": {
   "display_name": "base",
   "language": "python",
   "name": "python3"
  },
  "language_info": {
   "codemirror_mode": {
    "name": "ipython",
    "version": 3
   },
   "file_extension": ".py",
   "mimetype": "text/x-python",
   "name": "python",
   "nbconvert_exporter": "python",
   "pygments_lexer": "ipython3",
   "version": "3.12.4"
  }
 },
 "nbformat": 4,
 "nbformat_minor": 2
}
