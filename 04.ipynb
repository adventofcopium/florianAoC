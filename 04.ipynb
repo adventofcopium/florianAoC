{
 "cells": [
  {
   "cell_type": "code",
   "execution_count": 242,
   "metadata": {},
   "outputs": [],
   "source": [
    "import numpy as np\n",
    "import numpy.ma as ma"
   ]
  },
  {
   "cell_type": "markdown",
   "metadata": {},
   "source": [
    "# Input"
   ]
  },
  {
   "cell_type": "code",
   "execution_count": 243,
   "metadata": {},
   "outputs": [],
   "source": [
    "with open('input.txt') as file:\n",
    "    input = file.read().split(\"\\n\")\n",
    "matrix = np.array([list(l) for l in input])"
   ]
  },
  {
   "cell_type": "markdown",
   "metadata": {},
   "source": [
    "# Part 1"
   ]
  },
  {
   "cell_type": "code",
   "execution_count": 244,
   "metadata": {},
   "outputs": [],
   "source": [
    "straight = np.array([[\"X\", \"M\", \"A\", \"S\"]])\n",
    "diag = np.array([\n",
    "    [\"X\", \".\", \".\", \".\"],\n",
    "    [\".\", \"M\", \".\", \".\"],\n",
    "    [\".\", \".\", \"A\", \".\"],\n",
    "    [\".\", \".\", \".\", \"S\"],\n",
    "])\n",
    "patterns = [np.rot90(straight, k) for k in range(4)] + [np.rot90(diag, k) for k in range(4)]\n",
    "masks = [ma.MaskedArray(pattern, pattern==\".\") for pattern in patterns]"
   ]
  },
  {
   "cell_type": "code",
   "execution_count": 245,
   "metadata": {},
   "outputs": [],
   "source": [
    "def count(matrix, masks):\n",
    "    n, m = matrix.shape\n",
    "    count = 0\n",
    "    for mask in masks:\n",
    "        dy, dx = mask.shape\n",
    "        for x in range(m - dx + 1):\n",
    "            for y in range(n - dy + 1):\n",
    "                block = ma.MaskedArray(matrix[np.ix_(range(y, y+dy), range(x, x+dx))], mask.mask)\n",
    "                if ma.allequal(mask, block):\n",
    "                    count += 1\n",
    "    return count"
   ]
  },
  {
   "cell_type": "code",
   "execution_count": 246,
   "metadata": {},
   "outputs": [
    {
     "data": {
      "text/plain": [
       "2549"
      ]
     },
     "execution_count": 246,
     "metadata": {},
     "output_type": "execute_result"
    }
   ],
   "source": [
    "count(matrix, masks)"
   ]
  },
  {
   "cell_type": "markdown",
   "metadata": {},
   "source": [
    "# Part 2"
   ]
  },
  {
   "cell_type": "code",
   "execution_count": 251,
   "metadata": {},
   "outputs": [
    {
     "data": {
      "text/plain": [
       "2003"
      ]
     },
     "execution_count": 251,
     "metadata": {},
     "output_type": "execute_result"
    }
   ],
   "source": [
    "mas = np.array([\n",
    "    [\"M\", \".\", \"S\"],\n",
    "    [\".\", \"A\", \".\"],\n",
    "    [\"M\", \".\", \"S\"],\n",
    "])\n",
    "patterns = [np.rot90(mas, k) for k in range(4)]\n",
    "masks = [ma.MaskedArray(pattern, pattern==\".\") for pattern in patterns]\n",
    "\n",
    "count(matrix, masks)"
   ]
  }
 ],
 "metadata": {
  "kernelspec": {
   "display_name": "base",
   "language": "python",
   "name": "python3"
  },
  "language_info": {
   "codemirror_mode": {
    "name": "ipython",
    "version": 3
   },
   "file_extension": ".py",
   "mimetype": "text/x-python",
   "name": "python",
   "nbconvert_exporter": "python",
   "pygments_lexer": "ipython3",
   "version": "3.12.4"
  }
 },
 "nbformat": 4,
 "nbformat_minor": 2
}
