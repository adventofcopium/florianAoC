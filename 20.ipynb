{
 "cells": [
  {
   "cell_type": "code",
   "execution_count": 42,
   "metadata": {},
   "outputs": [],
   "source": [
    "import sys\n",
    "sys.path.append(\"..\")\n",
    "from utils.utils import Vec, Matrix\n",
    "import numpy as np\n",
    "from itertools import combinations\n",
    "\n",
    "with open(\"input.txt\") as file:\n",
    "    maze = Matrix.from_str(file.read())"
   ]
  },
  {
   "cell_type": "code",
   "execution_count": 43,
   "metadata": {},
   "outputs": [],
   "source": [
    "start = Vec(*list(zip(*np.where(maze=='S')))[0])\n",
    "end = Vec(*list(zip(*np.where(maze=='E')))[0])\n",
    "maze[start] = '.'\n",
    "maze[end] = '.'\n",
    "hashs = [Vec(*p) for p in list(zip(*np.where(maze=='#')))]"
   ]
  },
  {
   "cell_type": "code",
   "execution_count": 44,
   "metadata": {},
   "outputs": [],
   "source": [
    "positions = dict()\n",
    "pos = end\n",
    "positions[pos] = 0\n",
    "counter = 1\n",
    "maze[pos] = 'x'\n",
    "while pos != start:\n",
    "    for nb in pos.get_neighbors(maze):\n",
    "        if maze[nb] == '.':\n",
    "            pos = nb\n",
    "            positions[pos] = counter\n",
    "            maze[pos] = 'x'\n",
    "            counter += 1\n",
    "            continue"
   ]
  },
  {
   "cell_type": "code",
   "execution_count": 45,
   "metadata": {},
   "outputs": [],
   "source": [
    "# for any #, for any tuple of x-neighbors save diff\n",
    "diffs = []\n",
    "for hash in hashs:\n",
    "    nbs = [nb for nb in hash.get_neighbors(maze) if maze[nb] == 'x']\n",
    "    if len(nbs) == 1:\n",
    "        continue\n",
    "    pairs = combinations(nbs, 2)\n",
    "    for a, b in pairs:\n",
    "        diffs.append(abs(positions[a] - positions[b]) - 2)\n",
    "        "
   ]
  },
  {
   "cell_type": "code",
   "execution_count": 46,
   "metadata": {},
   "outputs": [
    {
     "data": {
      "text/plain": [
       "1393"
      ]
     },
     "execution_count": 46,
     "metadata": {},
     "output_type": "execute_result"
    }
   ],
   "source": [
    "sum(np.array(diffs) >= 100)"
   ]
  },
  {
   "cell_type": "code",
   "execution_count": 47,
   "metadata": {},
   "outputs": [],
   "source": [
    "# part 2: for any two . pairs check if manhatten distance is <20 and take diff\n",
    "path = positions.keys()\n",
    "diffs = []\n",
    "for a, b in combinations(path, 2):\n",
    "    dist = sum(abs(a-b))\n",
    "    if dist <= 20:\n",
    "        diffs.append(abs(positions[a] - positions[b]) - dist)"
   ]
  },
  {
   "cell_type": "code",
   "execution_count": 49,
   "metadata": {},
   "outputs": [
    {
     "data": {
      "text/plain": [
       "990096"
      ]
     },
     "execution_count": 49,
     "metadata": {},
     "output_type": "execute_result"
    }
   ],
   "source": [
    "sum(np.array(diffs) >= 100)"
   ]
  }
 ],
 "metadata": {
  "kernelspec": {
   "display_name": "base",
   "language": "python",
   "name": "python3"
  },
  "language_info": {
   "codemirror_mode": {
    "name": "ipython",
    "version": 3
   },
   "file_extension": ".py",
   "mimetype": "text/x-python",
   "name": "python",
   "nbconvert_exporter": "python",
   "pygments_lexer": "ipython3",
   "version": "3.11.5"
  }
 },
 "nbformat": 4,
 "nbformat_minor": 2
}
