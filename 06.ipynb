{
 "cells": [
  {
   "cell_type": "code",
   "execution_count": 1,
   "metadata": {},
   "outputs": [],
   "source": [
    "import numpy as np\n",
    "from tqdm import tqdm"
   ]
  },
  {
   "cell_type": "code",
   "execution_count": 2,
   "metadata": {},
   "outputs": [],
   "source": [
    "class Vec:\n",
    "    def __init__(self, x, y):\n",
    "        self.x = x\n",
    "        self.y = y\n",
    "    def __add__(self, other):\n",
    "        return Vec(self.x + other.x, self.y + other.y)\n",
    "    def __sub__(self, other):\n",
    "        return Vec(self.x - other.x, self.y - other.y)\n",
    "    def __repr__(self):\n",
    "        return f\"Vec({self.x}, {self.y})\"\n",
    "    def __rshift__(self, k):\n",
    "        return self if k == 0 else Vec(-self.y, self.x) >> k-1\n",
    "    def __lshift__(self, k):\n",
    "        return self if k == 0 else Vec(self.y, -self.x) << k-1\n",
    "    def __eq__(self, other):\n",
    "        return self.x == other.x and self.y == other.y\n",
    "    def __hash__(self):\n",
    "        return hash(repr(self))\n",
    "    \n",
    "class Matrix(np.ndarray):\n",
    "    def __new__(cls, input_array):\n",
    "        return np.asarray(input_array).view(cls)\n",
    "    def __getitem__(self, key):\n",
    "        if isinstance(key, Vec):\n",
    "            key = (key.x, key.y)\n",
    "        return super().__getitem__(key)\n",
    "    def __setitem__(self, key, value):\n",
    "        if isinstance(key, Vec):\n",
    "            key = (key.x, key.y)\n",
    "        return super().__setitem__(key, value)\n",
    "    def __contains__(self, pos):\n",
    "        if isinstance(pos, Vec):\n",
    "            m, n = self.shape\n",
    "            return 0 <= pos.x < m and 0 <= pos.y < n\n",
    "        return super().__contains__(pos)\n",
    "    @staticmethod\n",
    "    def from_str(s:str):\n",
    "        return Matrix(np.array(list(map(list, s.read().split(\"\\n\")))).T)"
   ]
  },
  {
   "cell_type": "markdown",
   "metadata": {},
   "source": [
    "# Input"
   ]
  },
  {
   "cell_type": "code",
   "execution_count": 3,
   "metadata": {},
   "outputs": [],
   "source": [
    "with open('input.txt') as file:\n",
    "    maze = Matrix.from_str(file)\n",
    "gx, gy = map(int, np.where(maze == '^'))"
   ]
  },
  {
   "cell_type": "markdown",
   "metadata": {},
   "source": [
    "# Task 1"
   ]
  },
  {
   "cell_type": "code",
   "execution_count": 4,
   "metadata": {},
   "outputs": [],
   "source": [
    "dir = Vec(0, -1) # 0 in top left\n",
    "gv = Vec(gx, gy)\n",
    "\n",
    "visited = set()\n",
    "visited.add(gv)\n",
    "while True:\n",
    "    gv += dir\n",
    "    if gv not in maze:\n",
    "        break\n",
    "    if maze[gv] == '#':\n",
    "        gv -= dir\n",
    "        dir = dir >> 1\n",
    "        continue\n",
    "    visited.add(gv)"
   ]
  },
  {
   "cell_type": "code",
   "execution_count": 5,
   "metadata": {},
   "outputs": [
    {
     "data": {
      "text/plain": [
       "5269"
      ]
     },
     "execution_count": 5,
     "metadata": {},
     "output_type": "execute_result"
    }
   ],
   "source": [
    "len(visited)"
   ]
  },
  {
   "cell_type": "markdown",
   "metadata": {},
   "source": [
    "# Task 2"
   ]
  },
  {
   "cell_type": "code",
   "execution_count": 6,
   "metadata": {},
   "outputs": [
    {
     "name": "stderr",
     "output_type": "stream",
     "text": [
      "100%|██████████| 5269/5269 [01:39<00:00, 53.09it/s]\n"
     ]
    },
    {
     "data": {
      "text/plain": [
       "1957"
      ]
     },
     "execution_count": 6,
     "metadata": {},
     "output_type": "execute_result"
    }
   ],
   "source": [
    "possible_loops = 0\n",
    "\n",
    "for pos in tqdm(visited):\n",
    "    dir = Vec(0, -1) # 0 in top left\n",
    "    gv = Vec(gx, gy)\n",
    "    maze[pos] = '#'\n",
    "    loop = {(gv, dir)} # set of (pos, dir)\n",
    "    while True:\n",
    "        gv += dir\n",
    "        if gv not in maze:\n",
    "            break\n",
    "        if maze[gv] == '#':\n",
    "            gv -= dir\n",
    "            dir = dir >> 1\n",
    "        if (gv, dir) in loop:\n",
    "            possible_loops += 1\n",
    "            break\n",
    "        loop.add((gv, dir))\n",
    "    \n",
    "    maze[pos] = '.'\n",
    "\n",
    "possible_loops"
   ]
  }
 ],
 "metadata": {
  "kernelspec": {
   "display_name": "base",
   "language": "python",
   "name": "python3"
  },
  "language_info": {
   "codemirror_mode": {
    "name": "ipython",
    "version": 3
   },
   "file_extension": ".py",
   "mimetype": "text/x-python",
   "name": "python",
   "nbconvert_exporter": "python",
   "pygments_lexer": "ipython3",
   "version": "3.11.5"
  }
 },
 "nbformat": 4,
 "nbformat_minor": 2
}
