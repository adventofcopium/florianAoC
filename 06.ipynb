{
 "cells": [
  {
   "cell_type": "code",
   "execution_count": 83,
   "metadata": {},
   "outputs": [],
   "source": [
    "import numpy as np"
   ]
  },
  {
   "cell_type": "markdown",
   "metadata": {},
   "source": [
    "# Input"
   ]
  },
  {
   "cell_type": "code",
   "execution_count": 84,
   "metadata": {},
   "outputs": [],
   "source": [
    "with open('input.txt') as file:\n",
    "    maze = np.array(list(map(list, file.read().split(\"\\n\")))).T"
   ]
  },
  {
   "cell_type": "markdown",
   "metadata": {},
   "source": [
    "# Task 1"
   ]
  },
  {
   "cell_type": "code",
   "execution_count": 85,
   "metadata": {},
   "outputs": [],
   "source": [
    "class vec:\n",
    "    def __init__(self, x, y):\n",
    "        self.x = x\n",
    "        self.y = y\n",
    "    def __add__(self, other):\n",
    "        return vec(self.x + other.x, self.y + other.y)\n",
    "    def __sub__(self, other):\n",
    "        return vec(self.x - other.x, self.y - other.y)\n",
    "    def __repr__(self):\n",
    "        return f\"({self.x}, {self.y})\"\n",
    "    def __rshift__(self, k):\n",
    "        return self if k == 0 else vec(-self.y, self.x) >> k-1\n",
    "    def __lshift__(self, k):\n",
    "        return self if k == 0 else vec(self.y, -self.x) << k-1\n",
    "    def __eq__(self, other):\n",
    "        return self.x == other.x and self.y == other.y\n",
    "    def is_in(self, m, n):\n",
    "        return self.x >=0 and self.y >= 0 and self.x < m and self.y < n\n",
    "    def __hash__(self):\n",
    "        return hash(repr(self))"
   ]
  },
  {
   "cell_type": "code",
   "execution_count": 86,
   "metadata": {},
   "outputs": [],
   "source": [
    "dir = vec(0, -1) # 0 in top left\n",
    "gx, gy = map(int, np.where(maze == '^'))\n",
    "gv = vec(gx, gy)\n",
    "m, n = maze.shape\n",
    "\n",
    "visited = set()\n",
    "visited.add(gv)\n",
    "while True:\n",
    "    gv += dir\n",
    "    if not gv.is_in(m, n):\n",
    "        break\n",
    "    if maze[gv.x][gv.y] == '#':\n",
    "        gv -= dir\n",
    "        dir = dir >> 1\n",
    "        continue\n",
    "    visited.add(gv)"
   ]
  },
  {
   "cell_type": "code",
   "execution_count": 87,
   "metadata": {},
   "outputs": [
    {
     "data": {
      "text/plain": [
       "5269"
      ]
     },
     "execution_count": 87,
     "metadata": {},
     "output_type": "execute_result"
    }
   ],
   "source": [
    "len(visited)"
   ]
  },
  {
   "cell_type": "markdown",
   "metadata": {},
   "source": [
    "# Task 2"
   ]
  },
  {
   "cell_type": "code",
   "execution_count": null,
   "metadata": {},
   "outputs": [],
   "source": [
    "# for every possible position to add obstacle\n",
    "# check that not outside of maze\n",
    "# check that no more positions are added to visited\n",
    "# TODO"
   ]
  }
 ],
 "metadata": {
  "kernelspec": {
   "display_name": "base",
   "language": "python",
   "name": "python3"
  },
  "language_info": {
   "codemirror_mode": {
    "name": "ipython",
    "version": 3
   },
   "file_extension": ".py",
   "mimetype": "text/x-python",
   "name": "python",
   "nbconvert_exporter": "python",
   "pygments_lexer": "ipython3",
   "version": "3.11.5"
  }
 },
 "nbformat": 4,
 "nbformat_minor": 2
}
