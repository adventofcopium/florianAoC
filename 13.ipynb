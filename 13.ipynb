{
 "cells": [
  {
   "cell_type": "code",
   "execution_count": 18,
   "metadata": {},
   "outputs": [],
   "source": [
    "import sys\n",
    "sys.path.append(\"..\")\n",
    "\n",
    "import numpy as np\n",
    "from numpy.linalg import solve\n",
    "from utils.utils import Vec"
   ]
  },
  {
   "cell_type": "markdown",
   "metadata": {},
   "source": [
    "# Input"
   ]
  },
  {
   "cell_type": "code",
   "execution_count": 19,
   "metadata": {},
   "outputs": [],
   "source": [
    "with open(\"input.txt\") as file:\n",
    "    machines = file.read().split(\"\\n\\n\")"
   ]
  },
  {
   "cell_type": "markdown",
   "metadata": {},
   "source": [
    "# Part 1"
   ]
  },
  {
   "cell_type": "code",
   "execution_count": 20,
   "metadata": {},
   "outputs": [],
   "source": [
    "import re\n",
    "buts = re.compile(r\"\\+(\\d+)\")\n",
    "gols = re.compile(r\"\\=(\\d+)\")"
   ]
  },
  {
   "cell_type": "code",
   "execution_count": 21,
   "metadata": {},
   "outputs": [],
   "source": [
    "def parse_machine(machine_str):\n",
    "    ax, ay, bx, by = map(int, re.findall(buts, machine_str))\n",
    "    gx, gy = map(int, re.findall(gols, machine_str))\n",
    "    return Vec(gx, gy), Vec(ax, ay), Vec(bx, by)\n",
    "machines = list(map(parse_machine, machines))"
   ]
  },
  {
   "cell_type": "code",
   "execution_count": 22,
   "metadata": {},
   "outputs": [],
   "source": [
    "def search(p, g, a, b, cost, visited):\n",
    "    visited.add(p)\n",
    "    if p == g:\n",
    "        return cost\n",
    "    if not p <= g:\n",
    "        return 0\n",
    "    if p + a <= g:\n",
    "        if not p+a in visited:\n",
    "            asearch = search(p + a, g, a, b, cost + 3, visited) \n",
    "            if asearch > 0: return asearch\n",
    "    if p + b <= g:\n",
    "        if not p+b in visited:\n",
    "            bsearch = search(p + b, g, a, b, cost + 1, visited)\n",
    "            if bsearch > 0: return bsearch\n",
    "    return 0"
   ]
  },
  {
   "cell_type": "code",
   "execution_count": 29,
   "metadata": {},
   "outputs": [
    {
     "data": {
      "text/plain": [
       "39996"
      ]
     },
     "execution_count": 29,
     "metadata": {},
     "output_type": "execute_result"
    }
   ],
   "source": [
    "sum([search(Vec(0,0), *m, 0, set()) for m in machines])"
   ]
  },
  {
   "cell_type": "markdown",
   "metadata": {},
   "source": [
    "# Part 2"
   ]
  },
  {
   "cell_type": "code",
   "execution_count": 23,
   "metadata": {},
   "outputs": [],
   "source": [
    "def is_whole(f, eps=0.001):\n",
    "    return abs(f - round(f)) < abs(eps)"
   ]
  },
  {
   "cell_type": "code",
   "execution_count": 26,
   "metadata": {},
   "outputs": [
    {
     "data": {
      "text/plain": [
       "39996"
      ]
     },
     "execution_count": 26,
     "metadata": {},
     "output_type": "execute_result"
    }
   ],
   "source": [
    "s = 0\n",
    "for g, a, b in machines:\n",
    "    # solve the linear equation\n",
    "    # (gx)   (ax, bx)   (an)\n",
    "    # (  ) = (      ) * \n",
    "    # (gy)   (ay, by)   (bn)\n",
    "    x = solve([[a.x, b.x], [a.y, b.y]], [g.x, g.y])\n",
    "    if is_whole(x[0]):\n",
    "        an, bn = map(round, x)\n",
    "        s += 3*an + bn\n",
    "s"
   ]
  }
 ],
 "metadata": {
  "kernelspec": {
   "display_name": "base",
   "language": "python",
   "name": "python3"
  },
  "language_info": {
   "codemirror_mode": {
    "name": "ipython",
    "version": 3
   },
   "file_extension": ".py",
   "mimetype": "text/x-python",
   "name": "python",
   "nbconvert_exporter": "python",
   "pygments_lexer": "ipython3",
   "version": "3.11.5"
  }
 },
 "nbformat": 4,
 "nbformat_minor": 2
}
