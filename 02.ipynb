{
 "cells": [
  {
   "cell_type": "code",
   "execution_count": 19,
   "metadata": {},
   "outputs": [],
   "source": [
    "with open(\"input.txt\") as file:\n",
    "    input = file.read().strip().split(\"\\n\")\n",
    "\n",
    "def parse_line(line):\n",
    "    return list(map(int, line.split(\" \")))\n",
    "\n",
    "parsed_input = list(map(parse_line, input))"
   ]
  },
  {
   "cell_type": "code",
   "execution_count": 20,
   "metadata": {},
   "outputs": [],
   "source": [
    "def check_faulty(line: list):\n",
    "    for i in range(len(line)):\n",
    "        if check_line(line[:i] + line[i+1:]):\n",
    "            return True\n",
    "    return False\n",
    "\n",
    "def check_diffs(diffs, neg=False, tolerance=0):\n",
    "    # count false rows\n",
    "    if neg:\n",
    "        is_faulty = lambda x : not (x < 0 and x > -4)\n",
    "    else:\n",
    "        is_faulty = lambda x : not (x > 0 and x < 4)\n",
    "    return sum(list(map(is_faulty, diffs))) <= tolerance\n",
    "\n",
    "def check_line(line, tolerance=0, double_check=False):\n",
    "    diff = []\n",
    "    for i in range(len(line)-1):\n",
    "        diff.append(line[i+1] - line[i])\n",
    "    \n",
    "    healthy = check_diffs(diff, diff[0] < 0, tolerance)\n",
    "    return healthy or (double_check and check_faulty(line))"
   ]
  },
  {
   "cell_type": "code",
   "execution_count": null,
   "metadata": {},
   "outputs": [],
   "source": [
    "def check_list(input, double_check=False):\n",
    "    s = 0\n",
    "    for line in parsed_input:\n",
    "        passt = check_line(line, double_check=double_check)\n",
    "        if passt:\n",
    "            s += 1\n",
    "    return s"
   ]
  },
  {
   "cell_type": "code",
   "execution_count": 22,
   "metadata": {},
   "outputs": [
    {
     "data": {
      "text/plain": [
       "(379, 430)"
      ]
     },
     "execution_count": 22,
     "metadata": {},
     "output_type": "execute_result"
    }
   ],
   "source": [
    "check_list(parsed_input, False), check_list(parsed_input, True)"
   ]
  }
 ],
 "metadata": {
  "kernelspec": {
   "display_name": "base",
   "language": "python",
   "name": "python3"
  },
  "language_info": {
   "codemirror_mode": {
    "name": "ipython",
    "version": 3
   },
   "file_extension": ".py",
   "mimetype": "text/x-python",
   "name": "python",
   "nbconvert_exporter": "python",
   "pygments_lexer": "ipython3",
   "version": "3.12.4"
  }
 },
 "nbformat": 4,
 "nbformat_minor": 2
}
