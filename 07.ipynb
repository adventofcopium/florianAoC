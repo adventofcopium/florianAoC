{
 "cells": [
  {
   "cell_type": "code",
   "execution_count": 56,
   "metadata": {},
   "outputs": [],
   "source": [
    "import operator"
   ]
  },
  {
   "cell_type": "markdown",
   "metadata": {},
   "source": [
    "# Input"
   ]
  },
  {
   "cell_type": "code",
   "execution_count": 57,
   "metadata": {},
   "outputs": [],
   "source": [
    "with open('input.txt') as file:\n",
    "    input = file.read().split(\"\\n\")"
   ]
  },
  {
   "cell_type": "code",
   "execution_count": null,
   "metadata": {},
   "outputs": [],
   "source": [
    "def check_nums(res, cur, nums, ops):\n",
    "    if cur > res:\n",
    "        return False\n",
    "    if len(nums) == 1:\n",
    "        for op in ops:\n",
    "            if (op(cur, nums[0]) == res):\n",
    "                return True\n",
    "        return False\n",
    "    for op in ops:\n",
    "        if check_nums(res, op(cur, nums[0]), nums[1:], ops):\n",
    "            return True\n",
    "    return False\n",
    "\n",
    "def parse_input(input, ops):\n",
    "    valid_sum = 0\n",
    "    for line in input:\n",
    "        res, nums = line.split(\":\")\n",
    "        res = int(res)\n",
    "        nums = list(map(int, nums.strip().split(' ')))\n",
    "        valid_sum += res if check_nums(res, nums[0], nums[1:], ops) else 0\n",
    "    return valid_sum"
   ]
  },
  {
   "cell_type": "markdown",
   "metadata": {},
   "source": [
    "# Task 1"
   ]
  },
  {
   "cell_type": "code",
   "execution_count": 59,
   "metadata": {},
   "outputs": [
    {
     "data": {
      "text/plain": [
       "1038838357795"
      ]
     },
     "execution_count": 59,
     "metadata": {},
     "output_type": "execute_result"
    }
   ],
   "source": [
    "parse_input(input, [operator.add, operator.mul])"
   ]
  },
  {
   "cell_type": "markdown",
   "metadata": {},
   "source": [
    "# Task 2"
   ]
  },
  {
   "cell_type": "code",
   "execution_count": 60,
   "metadata": {},
   "outputs": [
    {
     "data": {
      "text/plain": [
       "254136560217241"
      ]
     },
     "execution_count": 60,
     "metadata": {},
     "output_type": "execute_result"
    }
   ],
   "source": [
    "parse_input(input, [operator.add, operator.mul, lambda a, b: int(str(a) + str(b))])"
   ]
  }
 ],
 "metadata": {
  "kernelspec": {
   "display_name": "base",
   "language": "python",
   "name": "python3"
  },
  "language_info": {
   "codemirror_mode": {
    "name": "ipython",
    "version": 3
   },
   "file_extension": ".py",
   "mimetype": "text/x-python",
   "name": "python",
   "nbconvert_exporter": "python",
   "pygments_lexer": "ipython3",
   "version": "3.11.5"
  }
 },
 "nbformat": 4,
 "nbformat_minor": 2
}
