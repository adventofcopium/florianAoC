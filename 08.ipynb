{
 "cells": [
  {
   "cell_type": "code",
   "execution_count": 25,
   "metadata": {},
   "outputs": [],
   "source": [
    "import sys\n",
    "sys.path.append(\"..\")\n",
    "\n",
    "import numpy as np\n",
    "from utils.utils import Matrix, Vec\n",
    "from itertools import combinations"
   ]
  },
  {
   "cell_type": "markdown",
   "metadata": {},
   "source": [
    "# Input"
   ]
  },
  {
   "cell_type": "code",
   "execution_count": 26,
   "metadata": {},
   "outputs": [],
   "source": [
    "with open('input.txt') as file:\n",
    "    field = Matrix.from_str(file)"
   ]
  },
  {
   "cell_type": "markdown",
   "metadata": {},
   "source": [
    "# Preparation"
   ]
  },
  {
   "cell_type": "code",
   "execution_count": 27,
   "metadata": {},
   "outputs": [],
   "source": [
    "def get_freqs(field):\n",
    "    freqs = [freq for freq in np.unique(field) if freq != '.']\n",
    "    fdict = {freq: [Vec(x, y) for x, y in zip(*np.where(field == freq))] for freq in freqs}\n",
    "    return fdict\n",
    "\n",
    "def get_antinodes(field, fdict, get_all=False):\n",
    "    antinodes = set()\n",
    "    for antennas in fdict.values():\n",
    "        for a1, a2 in combinations(antennas, 2):\n",
    "            if get_all:\n",
    "                antinodes.update([a1, a2])\n",
    "            dif = a2 - a1\n",
    "            p1, p2 = a1 - dif, a2 + dif\n",
    "            while p1 in field or p2 in field:\n",
    "                if p1 in field: antinodes.add(p1)\n",
    "                if p2 in field: antinodes.add(p2)\n",
    "                if not get_all: break\n",
    "                p1 -= dif\n",
    "                p2 += dif\n",
    "    return len(antinodes)"
   ]
  },
  {
   "cell_type": "code",
   "execution_count": 28,
   "metadata": {},
   "outputs": [],
   "source": [
    "fdict = get_freqs(field)"
   ]
  },
  {
   "cell_type": "markdown",
   "metadata": {},
   "source": [
    "# Task 1"
   ]
  },
  {
   "cell_type": "code",
   "execution_count": 29,
   "metadata": {},
   "outputs": [
    {
     "data": {
      "text/plain": [
       "361"
      ]
     },
     "execution_count": 29,
     "metadata": {},
     "output_type": "execute_result"
    }
   ],
   "source": [
    "get_antinodes(field, fdict)"
   ]
  },
  {
   "cell_type": "markdown",
   "metadata": {},
   "source": [
    "# Task 2"
   ]
  },
  {
   "cell_type": "code",
   "execution_count": 30,
   "metadata": {},
   "outputs": [
    {
     "data": {
      "text/plain": [
       "1249"
      ]
     },
     "execution_count": 30,
     "metadata": {},
     "output_type": "execute_result"
    }
   ],
   "source": [
    "get_antinodes(field, fdict, True)"
   ]
  }
 ],
 "metadata": {
  "kernelspec": {
   "display_name": "base",
   "language": "python",
   "name": "python3"
  },
  "language_info": {
   "codemirror_mode": {
    "name": "ipython",
    "version": 3
   },
   "file_extension": ".py",
   "mimetype": "text/x-python",
   "name": "python",
   "nbconvert_exporter": "python",
   "pygments_lexer": "ipython3",
   "version": "3.12.7"
  }
 },
 "nbformat": 4,
 "nbformat_minor": 2
}
